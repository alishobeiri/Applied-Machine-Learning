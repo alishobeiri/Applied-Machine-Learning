{
 "cells": [
  {
   "cell_type": "code",
   "execution_count": 1,
   "metadata": {},
   "outputs": [],
   "source": [
    "import numpy as np"
   ]
  },
  {
   "cell_type": "code",
   "execution_count": 2,
   "metadata": {},
   "outputs": [],
   "source": [
    "cov = np.genfromtxt(\"./hwk2_datasets/DS1_Cov.txt\", delimiter=',')\n",
    "cov = np.array([i[~np.isnan(i)] for i in cov])"
   ]
  },
  {
   "cell_type": "code",
   "execution_count": 3,
   "metadata": {},
   "outputs": [],
   "source": [
    "m_1 = np.genfromtxt(\"./hwk2_datasets/DS1_m_1.txt\", delimiter=',')\n",
    "m_1 = m_1[~np.isnan(m_1)]\n",
    "\n",
    "m_0 = np.genfromtxt(\"./hwk2_datasets/DS1_m_0.txt\", delimiter=',')\n",
    "m_0 = m_0[~np.isnan(m_0)]\n",
    "\n",
    "samples = 2000"
   ]
  },
  {
   "cell_type": "code",
   "execution_count": 4,
   "metadata": {},
   "outputs": [
    {
     "data": {
      "text/plain": [
       "array([[ 3.77340844,  3.56530367,  1.6458822 , ...,  2.71641343,\n",
       "         1.21520534,  1.        ],\n",
       "       [-4.91027838, -1.24606809, -1.37794776, ..., -2.52784063,\n",
       "        -3.98175824,  1.        ],\n",
       "       [ 3.2874405 ,  2.46465435,  0.44553091, ...,  1.9204821 ,\n",
       "         1.38199711,  1.        ],\n",
       "       ...,\n",
       "       [ 3.12339281,  6.81978536,  3.47137871, ...,  5.28237808,\n",
       "         5.99860235,  1.        ],\n",
       "       [ 3.34894139,  2.75052994,  2.7396156 , ...,  2.05484777,\n",
       "         0.79304824,  1.        ],\n",
       "       [-0.85212059, -1.79571813, -2.60102679, ..., -2.13260712,\n",
       "        -0.3309044 ,  1.        ]])"
      ]
     },
     "execution_count": 4,
     "metadata": {},
     "output_type": "execute_result"
    }
   ],
   "source": [
    "pos_class = np.random.multivariate_normal(m_1, cov, samples)\n",
    "pos_class = np.append(pos_class, values=np.ones((2000, 1)), axis=1)\n",
    "pos_class"
   ]
  },
  {
   "cell_type": "code",
   "execution_count": 5,
   "metadata": {},
   "outputs": [
    {
     "data": {
      "text/plain": [
       "array([[-1.45695909e-01,  1.84999649e+00, -1.24913577e+00, ...,\n",
       "         8.93676195e-01, -2.23442505e-01,  0.00000000e+00],\n",
       "       [-5.04964055e+00, -5.35295596e+00, -3.53491828e+00, ...,\n",
       "        -5.71211913e+00, -1.28061002e+00,  0.00000000e+00],\n",
       "       [ 3.93024208e+00,  3.88926966e+00,  3.52350910e+00, ...,\n",
       "         5.38626900e+00,  1.94162270e+00,  0.00000000e+00],\n",
       "       ...,\n",
       "       [ 3.86398739e+00,  3.71458327e+00,  3.70775017e+00, ...,\n",
       "         4.04363791e+00,  4.56677965e+00,  0.00000000e+00],\n",
       "       [-1.30025065e+00, -3.27287996e+00, -2.61565342e+00, ...,\n",
       "        -3.98361783e+00, -3.23551625e+00,  0.00000000e+00],\n",
       "       [ 1.30214903e+00, -2.33691166e-03, -2.95138423e-01, ...,\n",
       "         1.75836530e+00,  1.70553157e+00,  0.00000000e+00]])"
      ]
     },
     "execution_count": 5,
     "metadata": {},
     "output_type": "execute_result"
    }
   ],
   "source": [
    "neg_class = np.random.multivariate_normal(m_0, cov, samples)\n",
    "neg_class = np.append(neg_class, values=np.zeros((2000, 1)), axis=1)\n",
    "neg_class"
   ]
  },
  {
   "cell_type": "code",
   "execution_count": 6,
   "metadata": {},
   "outputs": [],
   "source": [
    "np.random.shuffle(neg_class)\n",
    "np.random.shuffle(pos_class)\n",
    "\n",
    "cut = int(samples*0.60)\n",
    "mid_cut = int(cut + cut*0.5)"
   ]
  },
  {
   "cell_type": "code",
   "execution_count": 7,
   "metadata": {},
   "outputs": [],
   "source": [
    "neg_train = neg_class[:cut]\n",
    "neg_test = neg_class[cut:]\n",
    "neg_valid = neg_test[len(neg_test)//2:]\n",
    "neg_test = neg_test[:len(neg_test)//2]\n",
    "\n",
    "pos_train = pos_class[:cut]\n",
    "pos_test = pos_class[cut:]\n",
    "pos_valid = pos_test[len(pos_test)//2:]\n",
    "pos_test = pos_test[:len(pos_test)//2]"
   ]
  },
  {
   "cell_type": "code",
   "execution_count": 8,
   "metadata": {},
   "outputs": [],
   "source": [
    "DS1_train = np.append(pos_train, neg_train, axis=0)\n",
    "np.random.shuffle(DS1_train)"
   ]
  },
  {
   "cell_type": "code",
   "execution_count": 9,
   "metadata": {},
   "outputs": [],
   "source": [
    "DS1_test = np.append(pos_test, neg_test, axis=0)\n",
    "np.random.shuffle(DS1_test)\n",
    "DS1_valid = np.append(pos_valid, neg_valid, axis=0)\n",
    "np.random.shuffle(DS1_valid)\n",
    "\n",
    "DS1 = np.append(np.append(DS1_train, DS1_test, axis=0), DS1_valid, axis=0)"
   ]
  },
  {
   "cell_type": "code",
   "execution_count": 10,
   "metadata": {},
   "outputs": [],
   "source": [
    "np.savetxt(\"DS1_train.csv\", DS1_train, delimiter=\",\")\n",
    "np.savetxt(\"DS1_test.csv\", DS1_test, delimiter=\",\")\n",
    "np.savetxt(\"DS1_valid.csv\", DS1_valid, delimiter=\",\")\n",
    "np.savetxt(\"DS1.csv\", DS1, delimiter=\",\")"
   ]
  }
 ],
 "metadata": {
  "kernelspec": {
   "display_name": "Python 3",
   "language": "python",
   "name": "python3"
  },
  "language_info": {
   "codemirror_mode": {
    "name": "ipython",
    "version": 3
   },
   "file_extension": ".py",
   "mimetype": "text/x-python",
   "name": "python",
   "nbconvert_exporter": "python",
   "pygments_lexer": "ipython3",
   "version": "3.6.4"
  }
 },
 "nbformat": 4,
 "nbformat_minor": 2
}
