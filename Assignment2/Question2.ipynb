{
 "cells": [
  {
   "cell_type": "code",
   "execution_count": 1,
   "metadata": {},
   "outputs": [],
   "source": [
    "import numpy as np\n",
    "from numpy import matmul"
   ]
  },
  {
   "cell_type": "code",
   "execution_count": 2,
   "metadata": {},
   "outputs": [],
   "source": [
    "ds1_train = np.genfromtxt(\"DS1_train.csv\", delimiter=',')\n",
    "ds1_test = np.genfromtxt(\"DS1_test.csv\", delimiter=',')"
   ]
  },
  {
   "cell_type": "code",
   "execution_count": 3,
   "metadata": {},
   "outputs": [
    {
     "name": "stdout",
     "output_type": "stream",
     "text": [
      "w:  [ 1.40542533e+01 -8.26578614e+00 -5.06632505e+00 -2.69201272e+00\n",
      " -9.37280780e+00 -4.38523686e+00  1.58689599e+01 -2.34300606e+01\n",
      " -2.78745134e+01  9.09608016e+00 -1.28541098e+01 -1.16922993e+01\n",
      "  1.48472460e+01  1.22183007e+01 -5.71140687e+00  1.27236593e+01\n",
      "  2.80432792e+01 -6.58936552e+00  9.58045183e-03 -4.93335203e+00]\n",
      "wo:  26.41842219565859\n"
     ]
    }
   ],
   "source": [
    "N1 = ds1_train[:,-1].sum()\n",
    "N0 = ds1_train.shape[0] - N1\n",
    "\n",
    "# number of samples of each class\n",
    "p1 = N1/(N1 + N0)\n",
    "p0 = N0/(N1 + N0)\n",
    "\n",
    "# calculate mean for class 0 and class 1\n",
    "u0 = ds1_train[ds1_train[:, -1] == 0, :-1].sum(axis=0)/N0\n",
    "u1 = ds1_train[ds1_train[:, -1] == 1, :-1].sum(axis=0)/N1\n",
    "\n",
    "x=0\n",
    "s0=0\n",
    "s1=0\n",
    "# Run through each row of training set and save values \n",
    "for sample in ds1_train:\n",
    "    # If last elem of sample is 0 it is class 0\n",
    "    if sample[-1]==0:\n",
    "        x = np.array(sample[:-1])\n",
    "        x -= u0\n",
    "        x = np.reshape(x, (20, 1))\n",
    "        s0 += x.dot(x.T)\n",
    "    \n",
    "    # If last elem of sample is 1 it is class 1\n",
    "    if sample[-1]==1:\n",
    "        x = np.array(sample[:-1])\n",
    "        x -= u1\n",
    "        x = np.reshape(x, (20, 1))\n",
    "        s1 += x.dot(x.T)\n",
    "\n",
    "s0 /= N0        \n",
    "s1 /= N1\n",
    "\n",
    "# calculate covariance according to equation in notes \n",
    "cov = p0*s0+p1*s1\n",
    "cov_inv = np.linalg.inv(p0*s0+p1*s1)\n",
    "\n",
    "w = cov_inv.dot(u0 - u1)\n",
    "wo = -0.5*(matmul(matmul(u0.T, cov_inv), u0)) + 0.5*(matmul(matmul(u1.T, cov_inv), u1)) + np.log(p0/p1)\n",
    "print(\"w: \", w)\n",
    "print(\"wo: \", wo)"
   ]
  },
  {
   "cell_type": "code",
   "execution_count": 4,
   "metadata": {},
   "outputs": [],
   "source": [
    "# P(t(n) | x) = sigmoid(a)\n",
    "def sigmoid(a):\n",
    "    return 1/(1 + np.exp(-a))"
   ]
  },
  {
   "cell_type": "code",
   "execution_count": 19,
   "metadata": {},
   "outputs": [
    {
     "name": "stdout",
     "output_type": "stream",
     "text": [
      "Precision:  0.9443037974683545\n",
      "Recall:  0.9325\n",
      "Accuracy:  0.93875\n",
      "F1 Measure:  0.938364779874214\n"
     ]
    }
   ],
   "source": [
    "# P(t(n) | x) = sigmoid(w*x + wo)\n",
    "\n",
    "tp = 0\n",
    "fp = 0\n",
    "fn = 0\n",
    "tn = 0\n",
    "\n",
    "for row in ds1_test:\n",
    "    # save row label\n",
    "    label = row[-1]\n",
    "    # slice row without label to find class prediction\n",
    "    row = row[:-1]\n",
    "    pred = sigmoid(w.dot(row) + wo) # probability of class 0 \n",
    "    pred = round(1 - pred, 0)\n",
    "    if pred == 0:\n",
    "        tn += int(label == pred)\n",
    "        fn += int(not label == pred)\n",
    "        \n",
    "    elif pred == 1:\n",
    "        tp += int(label == pred)\n",
    "        fp += int(not label == pred)\n",
    "        \n",
    "\n",
    "total = (ds1_test.shape[0])\n",
    "precision = tp/(tp + fp)\n",
    "recall = tp/(tp + fn)\n",
    "acc = (tn + tp)/(total)\n",
    "f1 = (2*precision*recall)/(precision + recall)\n",
    "\n",
    "print(\"Precision: \", precision)\n",
    "print(\"Recall: \", recall)\n",
    "print(\"Accuracy: \", acc)\n",
    "print(\"F1 Measure: \", f1)"
   ]
  }
 ],
 "metadata": {
  "kernelspec": {
   "display_name": "Python 3",
   "language": "python",
   "name": "python3"
  },
  "language_info": {
   "codemirror_mode": {
    "name": "ipython",
    "version": 3
   },
   "file_extension": ".py",
   "mimetype": "text/x-python",
   "name": "python",
   "nbconvert_exporter": "python",
   "pygments_lexer": "ipython3",
   "version": "3.6.4"
  }
 },
 "nbformat": 4,
 "nbformat_minor": 2
}
