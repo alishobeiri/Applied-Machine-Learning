{
 "cells": [
  {
   "cell_type": "code",
   "execution_count": 1,
   "metadata": {},
   "outputs": [],
   "source": [
    "import numpy as np"
   ]
  },
  {
   "cell_type": "code",
   "execution_count": 2,
   "metadata": {},
   "outputs": [],
   "source": [
    "cov1 = np.genfromtxt(\"./hwk2_datasets/DS2_Cov1.txt\", delimiter=',')\n",
    "cov1 = np.array([i[~np.isnan(i)] for i in cov1])\n",
    "cov2 = np.genfromtxt(\"./hwk2_datasets/DS2_Cov2.txt\", delimiter=',')\n",
    "cov2 = np.array([i[~np.isnan(i)] for i in cov2])\n",
    "cov3 = np.genfromtxt(\"./hwk2_datasets/DS2_Cov3.txt\", delimiter=',')\n",
    "cov3 = np.array([i[~np.isnan(i)] for i in cov3])\n",
    "\n",
    "one_m1 = np.genfromtxt(\"./hwk2_datasets/DS2_c1_m1.txt\", delimiter=',')[:-1]\n",
    "one_m2 = np.genfromtxt(\"./hwk2_datasets/DS2_c1_m2.txt\", delimiter=',')[:-1]\n",
    "one_m3 = np.genfromtxt(\"./hwk2_datasets/DS2_c1_m3.txt\", delimiter=',')[:-1]\n",
    "\n",
    "\n",
    "two_m1 = np.genfromtxt(\"./hwk2_datasets/DS2_c2_m1.txt\", delimiter=',')[:-1]\n",
    "two_m2 = np.genfromtxt(\"./hwk2_datasets/DS2_c2_m2.txt\", delimiter=',')[:-1]\n",
    "two_m3 = np.genfromtxt(\"./hwk2_datasets/DS2_c2_m3.txt\", delimiter=',')[:-1]\n",
    "\n",
    "sample_ratio = [0.1, 0.42, 0.48]\n",
    "samples = 2000"
   ]
  },
  {
   "cell_type": "code",
   "execution_count": 3,
   "metadata": {},
   "outputs": [],
   "source": [
    "pos_1 = np.random.multivariate_normal(one_m1, cov1, int(samples*sample_ratio[0]))\n",
    "pos_1 = np.append(pos_1, values=np.ones((int(samples*sample_ratio[0]), 1)), axis=1)\n",
    "\n",
    "pos_2 = np.random.multivariate_normal(one_m2, cov2, int(samples*sample_ratio[1]))\n",
    "pos_2 = np.append(pos_2, values=np.ones((int(samples*sample_ratio[1]), 1)), axis=1)\n",
    "\n",
    "pos_3 = np.random.multivariate_normal(one_m3, cov3, int(samples*sample_ratio[2]))\n",
    "pos_3 = np.append(pos_3, values=np.ones((int(samples*sample_ratio[2]), 1)), axis=1)\n",
    "\n",
    "neg_1 = np.random.multivariate_normal(two_m1, cov1, int(samples*sample_ratio[0]))\n",
    "neg_1 = np.append(neg_1, values=np.zeros((int(samples*sample_ratio[0]), 1)), axis=1)\n",
    "\n",
    "neg_2 = np.random.multivariate_normal(two_m2, cov2, int(samples*sample_ratio[1]))\n",
    "neg_2 = np.append(neg_2, values=np.zeros((int(samples*sample_ratio[1]), 1)), axis=1)\n",
    "\n",
    "neg_3 = np.random.multivariate_normal(two_m3, cov3, int(samples*sample_ratio[2]))\n",
    "neg_3 = np.append(neg_3, values=np.zeros((int(samples*sample_ratio[2]), 1)), axis=1)\n",
    "\n",
    "pos_class = np.concatenate([pos_1, pos_2, pos_3], axis = 0)\n",
    "neg_class = np.concatenate([neg_1, neg_2, neg_3], axis = 0)\n",
    "\n",
    "np.random.shuffle(neg_class)\n",
    "np.random.shuffle(pos_class)\n",
    "\n",
    "cut = int(samples*0.60)\n",
    "mid_cut = int(cut + cut*0.5)\n",
    "\n",
    "neg_train = neg_class[:cut]\n",
    "neg_test = neg_class[cut:]\n",
    "neg_valid = neg_test[len(neg_test)//2:]\n",
    "neg_test = neg_test[:len(neg_test)//2]\n",
    "\n",
    "pos_train = pos_class[:cut]\n",
    "pos_test = pos_class[cut:]\n",
    "pos_valid = pos_test[len(pos_test)//2:]\n",
    "pos_test = pos_test[:len(pos_test)//2]\n",
    "\n",
    "DS2_train = np.append(pos_train, neg_train, axis=0)\n",
    "np.random.shuffle(DS2_train)"
   ]
  },
  {
   "cell_type": "code",
   "execution_count": 4,
   "metadata": {},
   "outputs": [],
   "source": [
    "DS2_test = np.append(pos_test, neg_test, axis=0)\n",
    "np.random.shuffle(DS2_test)\n",
    "DS2_valid = np.append(pos_valid, neg_valid, axis=0)\n",
    "np.random.shuffle(DS2_valid)\n",
    "DS2 = np.append(np.append(DS2_train, DS2_test, axis=0), DS2_valid, axis=0)"
   ]
  },
  {
   "cell_type": "code",
   "execution_count": 5,
   "metadata": {},
   "outputs": [],
   "source": [
    "np.savetxt(\"DS2_train.csv\", DS2_train, delimiter=\",\")\n",
    "np.savetxt(\"DS2_test.csv\", DS2_test, delimiter=\",\")\n",
    "np.savetxt(\"DS2_valid.csv\", DS2_valid, delimiter=\",\")\n",
    "np.savetxt(\"DS2.csv\", DS2, delimiter=\",\")"
   ]
  }
 ],
 "metadata": {
  "kernelspec": {
   "display_name": "Python 3",
   "language": "python",
   "name": "python3"
  },
  "language_info": {
   "codemirror_mode": {
    "name": "ipython",
    "version": 3
   },
   "file_extension": ".py",
   "mimetype": "text/x-python",
   "name": "python",
   "nbconvert_exporter": "python",
   "pygments_lexer": "ipython3",
   "version": "3.6.4"
  }
 },
 "nbformat": 4,
 "nbformat_minor": 2
}
